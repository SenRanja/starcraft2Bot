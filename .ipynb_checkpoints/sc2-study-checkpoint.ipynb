{
 "cells": [
  {
   "attachments": {},
   "cell_type": "markdown",
   "id": "f3ff5996-5afb-4259-8621-945ba12c3f8e",
   "metadata": {},
   "source": [
    "# 调研背景\n",
    "\n",
    "目前看来调用API运行的主要有这么几个仓库：\n",
    "- https://github.com/BurnySc2/python-sc2\n",
    "- https://github.com/Dentosal/python-sc2\n",
    "- https://github.com/deepmind/pysc2\n",
    "\n",
    "地图下载：\n",
    "https://github.com/Blizzard/s2client-proto\n",
    "\n",
    "只有一些老地图和老rep，不够用，得找找能不能下载当前版本的地图，还有放天梯\n",
    "\n",
    "目前研究BurnySc2/python-sc2"
   ]
  },
  {
   "cell_type": "markdown",
   "id": "c6d7a8b9-4ebb-4904-a1db-e9abb1cc5b67",
   "metadata": {},
   "source": [
    "# 环境准备\n",
    "\n",
    "## Python\n",
    "\n",
    "推荐Python 3.10，因为burnySC2推荐此版本\n",
    "\n",
    "暂时不需要cuda、对应pytorch，因为此接口单纯是暴雪给出的API，我们code只是操作API完成动作，跟显卡训练无关。\n",
    "\n",
    "运行脚本时，nvidia-smi显示的进程只是运行SC2的游戏本身的显卡输出计算，与AI无关\n",
    "\n",
    "## SC2\n",
    "\n",
    "星际2下载到默认目录`C:\\Program Files (x86)\\StarCraft II\\`\n",
    "\n",
    "### local starcraft 2's maps' path\n",
    "从 `https://github.com/Blizzard/s2client-proto` 下载一些老地图，手动创建Map目录，解压进去：\n",
    "`C:\\Program Files (x86)\\StarCraft II\\Maps`\n",
    "注意Maps下最多一层目录就要见到SC2Maps文件\n",
    "\n",
    "\n"
   ]
  },
  {
   "cell_type": "markdown",
   "id": "0b1afd83-3f04-4824-97f0-7bfe6285cc9b",
   "metadata": {},
   "source": [
    "# BurnySc2\n",
    "\n",
    "[BurnySc2](https://github.com/BurnySc2/python-sc2)\n",
    "\n",
    "## 教程文档：\n",
    "\n",
    "https://burnysc2.github.io/python-sc2/text_files/introduction.html\n",
    "\n",
    "## B站南方小鱼儿\n",
    "\n",
    "### 基本操作\n",
    "\n",
    "硬编码运行流程，最基本的控制探机建造、命令部队攻击，此部分只涉及SC2的API来操作，不涉及AI\n",
    "\n",
    "https://www.bilibili.com/video/BV1S3411u7za\n",
    "\n",
    "### 强化学习\n",
    "\n",
    "https://www.bilibili.com/video/BV1zG411W7x1\n"
   ]
  },
  {
   "cell_type": "markdown",
   "id": "48fc2ea1-3b1c-411a-a443-815eaede7fda",
   "metadata": {},
   "source": [
    "# BurnySc2 Worthy notable code"
   ]
  },
  {
   "cell_type": "markdown",
   "id": "4cc7c146-0177-4f49-a33e-ebd594885175",
   "metadata": {},
   "source": [
    "## for terran\n",
    "\n",
    "The code would select the nearest to the correct ramp location, to build the barrack near by the first depot.\n",
    "\n",
    "Human can interfere the progress, for example, we can command the scv to go to the other, and conditional order would make the other scv to start the function."
   ]
  },
  {
   "cell_type": "code",
   "execution_count": 16,
   "id": "0c316651-58b5-44e2-b39a-5da2a7ee5d36",
   "metadata": {},
   "outputs": [
    {
     "ename": "NameError",
     "evalue": "name 'self' is not defined",
     "output_type": "error",
     "traceback": [
      "\u001b[1;31m---------------------------------------------------------------------------\u001b[0m",
      "\u001b[1;31mNameError\u001b[0m                                 Traceback (most recent call last)",
      "Cell \u001b[1;32mIn[16], line 1\u001b[0m\n\u001b[1;32m----> 1\u001b[0m barracks_placement_position \u001b[38;5;241m=\u001b[39m \u001b[38;5;28mself\u001b[39m\u001b[38;5;241m.\u001b[39mmain_base_ramp\u001b[38;5;241m.\u001b[39mbarracks_correct_placement\n\u001b[0;32m      2\u001b[0m worker \u001b[38;5;241m=\u001b[39m \u001b[38;5;28mself\u001b[39m\u001b[38;5;241m.\u001b[39mselect_build_worker(barracks_placement_position)\n\u001b[0;32m      3\u001b[0m \u001b[38;5;66;03m# Can return None\u001b[39;00m\n",
      "\u001b[1;31mNameError\u001b[0m: name 'self' is not defined"
     ]
    }
   ],
   "source": [
    "barracks_placement_position = self.main_base_ramp.barracks_correct_placement\n",
    "worker = self.select_build_worker(barracks_placement_position)\n",
    "# Can return None\n",
    "if worker:\n",
    "    worker.build(UnitTypeId.BARRACKS, barracks_placement_position)"
   ]
  },
  {
   "cell_type": "markdown",
   "id": "e429d3ab-6317-477c-a283-0b0764a740a9",
   "metadata": {},
   "source": [
    "# automatically build new townhall"
   ]
  },
  {
   "cell_type": "code",
   "execution_count": 19,
   "id": "a4803feb-3bdc-4552-86d7-f04acb4e8eae",
   "metadata": {},
   "outputs": [
    {
     "ename": "NameError",
     "evalue": "name 'self' is not defined",
     "output_type": "error",
     "traceback": [
      "\u001b[1;31m---------------------------------------------------------------------------\u001b[0m",
      "\u001b[1;31mNameError\u001b[0m                                 Traceback (most recent call last)",
      "Cell \u001b[1;32mIn[19], line 1\u001b[0m\n\u001b[1;32m----> 1\u001b[0m \u001b[38;5;28;01mawait\u001b[39;00m \u001b[38;5;28mself\u001b[39m\u001b[38;5;241m.\u001b[39mexpand_now()\n",
      "\u001b[1;31mNameError\u001b[0m: name 'self' is not defined"
     ]
    }
   ],
   "source": [
    "await self.expand_now()"
   ]
  },
  {
   "cell_type": "markdown",
   "id": "6ef878d9-b718-44bb-9366-88fc0abbf7b5",
   "metadata": {},
   "source": [
    "# get the locations\n",
    "\n",
    "for 1v1, in rencently years, there are only two locations for you and ur enermy. Hence the P2 list contains only one enermy_start_location."
   ]
  },
  {
   "cell_type": "code",
   "execution_count": 22,
   "id": "008093c1-6df8-44c2-b1fd-4b3c2e5b43fb",
   "metadata": {},
   "outputs": [
    {
     "ename": "NameError",
     "evalue": "name 'self' is not defined",
     "output_type": "error",
     "traceback": [
      "\u001b[1;31m---------------------------------------------------------------------------\u001b[0m",
      "\u001b[1;31mNameError\u001b[0m                                 Traceback (most recent call last)",
      "Cell \u001b[1;32mIn[22], line 1\u001b[0m\n\u001b[1;32m----> 1\u001b[0m esl \u001b[38;5;241m=\u001b[39m \u001b[38;5;28mself\u001b[39m\u001b[38;5;241m.\u001b[39menemy_start_locations\n\u001b[0;32m      2\u001b[0m \u001b[38;5;28mprint\u001b[39m(esl)\n",
      "\u001b[1;31mNameError\u001b[0m: name 'self' is not defined"
     ]
    }
   ],
   "source": [
    "esl = self.enemy_start_locations\n",
    "print(esl)"
   ]
  },
  {
   "cell_type": "markdown",
   "id": "7e459b6a-a272-4920-ba2d-1f6f98ae0b4f",
   "metadata": {},
   "source": [
    "\n",
    "# My questions\n",
    "\n",
    "## how to distinguish the count for pending and complete constructions\n",
    "\n",
    "```python\n",
    "# self.structures(UnitTypeId.PYLON) and self.already_pending(UnitTypeId.PYLON) contain pendings\n",
    "# self.structures(UnitTypeId.PYLON).ready.amount doesn't contain pending construction\n",
    "```\n",
    "\n",
    "raw code here:\n",
    "\n",
    "```python\n",
    "    # conclusion\n",
    "    # self.structures(UnitTypeId.PYLON) and self.already_pending(UnitTypeId.PYLON) contain pendings\n",
    "    # self.structures(UnitTypeId.PYLON).ready.amount doesn't contain pending construction\n",
    "    print(self.structures(UnitTypeId.PYLON))\n",
    "    print(self.structures(UnitTypeId.PYLON).amount)\n",
    "    print(self.structures(UnitTypeId.PYLON).ready.amount)\n",
    "    print(self.already_pending(UnitTypeId.PYLON))\n",
    "```\n",
    "\n",
    "## no global lock\n",
    "\n",
    "hence easily before no cybernetic core, the program is ready to build two cybernetic cores, but actually we only need one.\n",
    "So my solution, is to build a queue, to double check if the construction would be in plan instead of duplicate."
   ]
  },
  {
   "cell_type": "markdown",
   "id": "1113f9f7-ef95-46d1-9eae-bf18132aaef0",
   "metadata": {
    "editable": true,
    "slideshow": {
     "slide_type": ""
    },
    "tags": []
   },
   "source": [
    "# 决策\n",
    "\n",
    "\n",
    "\n"
   ]
  },
  {
   "cell_type": "markdown",
   "id": "b1e2eb2b-b5bc-4d08-845f-c671aadacca1",
   "metadata": {
    "editable": true,
    "slideshow": {
     "slide_type": ""
    },
    "tags": []
   },
   "source": [
    "# official Sc2 BOT ladder\n",
    "\n",
    "- [x] TODO: AI天梯，未来上这个接口看看\n",
    "\n",
    "https://github.com/Cryptyc/Sc2LadderServer\n"
   ]
  },
  {
   "cell_type": "markdown",
   "id": "1bc40aff-46a6-407e-b1d7-f306905308ee",
   "metadata": {},
   "source": [
    "# 暂时不研究\n",
    "\n",
    "[Dentosal/python-sc2](https://github.com/Dentosal/python-sc2)\n",
    "\n",
    "可以参考这个哥们的中文笔记，比较详细\n",
    "https://github.com/ClausewitzCPU0/SC2AI\n",
    "\n"
   ]
  }
 ],
 "metadata": {
  "kernelspec": {
   "display_name": "Python [conda env:base] *",
   "language": "python",
   "name": "conda-base-py"
  },
  "language_info": {
   "codemirror_mode": {
    "name": "ipython",
    "version": 3
   },
   "file_extension": ".py",
   "mimetype": "text/x-python",
   "name": "python",
   "nbconvert_exporter": "python",
   "pygments_lexer": "ipython3",
   "version": "3.12.7"
  }
 },
 "nbformat": 4,
 "nbformat_minor": 5
}
