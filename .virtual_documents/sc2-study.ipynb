














barracks_placement_position = self.main_base_ramp.barracks_correct_placement
worker = self.select_build_worker(barracks_placement_position)
# Can return None
if worker:
    worker.build(UnitTypeId.BARRACKS, barracks_placement_position)





await self.expand_now()





esl = self.enemy_start_locations
print(esl)












