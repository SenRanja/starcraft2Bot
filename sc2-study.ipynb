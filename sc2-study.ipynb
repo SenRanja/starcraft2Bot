{
 "cells": [
  {
   "cell_type": "markdown",
   "id": "2217c2d1-8c2f-427f-9a83-067b2b7f6f94",
   "metadata": {},
   "source": [
    "# 调研背景\n",
    "\n",
    "目前看来调用API运行的主要有这么几个仓库：\n",
    "- https://github.com/BurnySc2/python-sc2\n",
    "- https://github.com/Dentosal/python-sc2\n",
    "- https://github.com/deepmind/pysc2\n",
    "\n",
    "地图下载：\n",
    "https://github.com/Blizzard/s2client-proto\n",
    "\n",
    "只有一些老地图和老rep，不够用，得找找能不能下载当前版本的地图，还有放天梯\n",
    "\n",
    "目前研究BurnySc2/python-sc2"
   ]
  },
  {
   "cell_type": "markdown",
   "id": "c6d7a8b9-4ebb-4904-a1db-e9abb1cc5b67",
   "metadata": {},
   "source": [
    "# 环境准备\n",
    "\n",
    "## Python\n",
    "\n",
    "推荐Python 3.10，因为burnySC2推荐此版本\n",
    "\n",
    "暂时不需要cuda、对应pytorch，因为此接口单纯是暴雪给出的API，我们code只是操作API完成动作，跟显卡训练无关。\n",
    "\n",
    "运行脚本时，nvidia-smi显示的进程只是运行SC2的游戏本身的显卡输出计算，与AI无关\n",
    "\n",
    "## SC2\n",
    "\n",
    "星际2下载到默认目录`C:\\Program Files (x86)\\StarCraft II\\`\n",
    "\n",
    "### local starcraft 2's maps' path\n",
    "从 `https://github.com/Blizzard/s2client-proto` 下载一些老地图，手动创建Map目录，解压进去：\n",
    "`C:\\Program Files (x86)\\StarCraft II\\Maps`\n",
    "注意Maps下最多一层目录就要见到SC2Maps文件\n",
    "\n",
    "\n"
   ]
  },
  {
   "cell_type": "markdown",
   "id": "70afd637-9dc7-4971-82de-5b7f6bd5cb86",
   "metadata": {},
   "source": [
    "# BurnySc2\n",
    "\n",
    "[BurnySc2](https://github.com/BurnySc2/python-sc2)\n",
    "\n",
    "教程文档：\n",
    "\n",
    "https://burnysc2.github.io/python-sc2/text_files/introduction.html\n",
    "\n",
    "B站南方小鱼儿，视频在此，我需要观摩学习下\n",
    "\n",
    "https://space.bilibili.com/1074027633/video?tid=0&pn=6&keyword=&order=pubdate\n",
    "\n",
    "# My questions\n",
    "\n",
    "## how to distinguish the count for pending and complete constructions\n",
    "\n",
    "```python\n",
    "# self.structures(UnitTypeId.PYLON) and self.already_pending(UnitTypeId.PYLON) contain pendings\n",
    "# self.structures(UnitTypeId.PYLON).ready.amount doesn't contain pending construction\n",
    "```\n",
    "\n",
    "raw code here:\n",
    "\n",
    "```python\n",
    "    # conclusion\n",
    "    # self.structures(UnitTypeId.PYLON) and self.already_pending(UnitTypeId.PYLON) contain pendings\n",
    "    # self.structures(UnitTypeId.PYLON).ready.amount doesn't contain pending construction\n",
    "    print(self.structures(UnitTypeId.PYLON))\n",
    "    print(self.structures(UnitTypeId.PYLON).amount)\n",
    "    print(self.structures(UnitTypeId.PYLON).ready.amount)\n",
    "    print(self.already_pending(UnitTypeId.PYLON))\n",
    "```\n",
    "\n",
    "## no global lock\n",
    "\n",
    "hence easily before no cybernetic core, the program is ready to build two cybernetic cores, but actually we only need one.\n",
    "So my solution, is to build a queue, to double check if the construction would be in plan instead of duplicate.\n",
    "\n"
   ]
  },
  {
   "cell_type": "markdown",
   "id": "b1e2eb2b-b5bc-4d08-845f-c671aadacca1",
   "metadata": {},
   "source": [
    "# official Sc2 BOT ladder\n",
    "\n",
    "- [x] TODO: AI天梯，未来上这个接口看看\n",
    "\n",
    "https://github.com/Cryptyc/Sc2LadderServer\n"
   ]
  },
  {
   "cell_type": "markdown",
   "id": "1bc40aff-46a6-407e-b1d7-f306905308ee",
   "metadata": {},
   "source": [
    "# 暂时不研究\n",
    "\n",
    "[Dentosal/python-sc2](https://github.com/Dentosal/python-sc2)\n",
    "\n",
    "可以参考这个哥们的中文笔记，比较详细\n",
    "https://github.com/ClausewitzCPU0/SC2AI\n",
    "\n"
   ]
  }
 ],
 "metadata": {
  "kernelspec": {
   "display_name": "Python [conda env:base] *",
   "language": "python",
   "name": "conda-base-py"
  },
  "language_info": {
   "codemirror_mode": {
    "name": "ipython",
    "version": 3
   },
   "file_extension": ".py",
   "mimetype": "text/x-python",
   "name": "python",
   "nbconvert_exporter": "python",
   "pygments_lexer": "ipython3",
   "version": "3.12.7"
  }
 },
 "nbformat": 4,
 "nbformat_minor": 5
}
